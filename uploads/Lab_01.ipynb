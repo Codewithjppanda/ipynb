{
 "cells": [
  {
   "cell_type": "code",
   "execution_count": 1,
   "id": "023933c9-26a2-4862-9ea6-c1b81ac22098",
   "metadata": {},
   "outputs": [
    {
     "name": "stdin",
     "output_type": "stream",
     "text": [
      "Enter first number:  10\n",
      "Enter second number:  0\n"
     ]
    },
    {
     "name": "stdout",
     "output_type": "stream",
     "text": [
      "After swapping: a = 0, b = 10\n"
     ]
    }
   ],
   "source": [
    "a = int(input(\"Enter first number: \"))\n",
    "b = int(input(\"Enter second number: \"))\n",
    "a = a + b\n",
    "b = a - b\n",
    "a = a - b\n",
    "print(f\"After swapping: a = {a}, b = {b}\")"
   ]
  },
  {
   "cell_type": "code",
   "execution_count": 12,
   "id": "d4c29303-16fb-4e9f-a951-a51255c86525",
   "metadata": {},
   "outputs": [
    {
     "name": "stdin",
     "output_type": "stream",
     "text": [
      "Enter first number:  1\n",
      "Enter second number:  2\n"
     ]
    },
    {
     "name": "stdout",
     "output_type": "stream",
     "text": [
      "Addition: 3\n",
      "Subtraction: -1\n",
      "Multiplication: 2\n",
      "Division: 0.5\n",
      "Modulus: 1\n",
      "Exponentiation: 1\n",
      "Floors of a and b: (1, 2)\n",
      "Logical AND: 2\n",
      "Logical OR: 1\n",
      "Logical NOT (a): False\n",
      "Bitwise AND: 0\n",
      "Bitwise OR: 3\n",
      "Bitwise XOR: 3\n",
      "Bitwise NOT (a): -2\n",
      "Left Shift (a << 1): 2\n",
      "Right Shift (a >> 1): 0\n"
     ]
    }
   ],
   "source": [
    "import math \n",
    "\n",
    "a = int(input(\"Enter first number: \"))\n",
    "b = int(input(\"Enter second number: \"))\n",
    "\n",
    "print(\"Addition:\", a + b)\n",
    "print(\"Subtraction:\", a - b)\n",
    "print(\"Multiplication:\", a * b)\n",
    "print(\"Division:\", a / b if b != 0 else \"Division by zero error\")\n",
    "print(\"Modulus:\", a % b if b != 0 else \"Modulus by zero error\")\n",
    "print(\"Exponentiation:\", a ** b)\n",
    "print(\"Floors of a and b:\", (math.floor(a), math.floor(b)))\n",
    "\n",
    "# Logical operations\n",
    "print(\"Logical AND:\", a and b)\n",
    "print(\"Logical OR:\", a or b)\n",
    "print(\"Logical NOT (a):\", not a)\n",
    "\n",
    "# Bitwise operations\n",
    "print(\"Bitwise AND:\", a & b)\n",
    "print(\"Bitwise OR:\", a | b)\n",
    "print(\"Bitwise XOR:\", a ^ b)\n",
    "print(\"Bitwise NOT (a):\", ~a)\n",
    "print(\"Left Shift (a << 1):\", a << 1)\n",
    "print(\"Right Shift (a >> 1):\", a >> 1)\n"
   ]
  },
  {
   "cell_type": "code",
   "execution_count": 14,
   "id": "255198b8-c056-4cd6-ba9a-b74f7bf07316",
   "metadata": {},
   "outputs": [
    {
     "name": "stdin",
     "output_type": "stream",
     "text": [
      "Enter a number:  123\n"
     ]
    },
    {
     "name": "stdout",
     "output_type": "stream",
     "text": [
      "Reversed number: 321\n"
     ]
    }
   ],
   "source": [
    "num = int(input(\"Enter a number: \"))\n",
    "reverse = 0\n",
    "while num > 0:\n",
    "    reverse = reverse * 10 + num % 10\n",
    "    num //= 10\n",
    "print(\"Reversed number:\", reverse)\n"
   ]
  },
  {
   "cell_type": "code",
   "execution_count": 18,
   "id": "7eeec309-dafa-4bfc-91be-c5e7bb5d64b1",
   "metadata": {},
   "outputs": [
    {
     "name": "stdin",
     "output_type": "stream",
     "text": [
      "Enter first number:  3\n",
      "Enter second number:  4\n"
     ]
    },
    {
     "name": "stdout",
     "output_type": "stream",
     "text": [
      "Sum: 7\n"
     ]
    }
   ],
   "source": [
    "a = int(input(\"Enter first number: \"))\n",
    "b = int(input(\"Enter second number: \"))\n",
    "while b != 0:\n",
    "    x = a & b\n",
    "    a = a ^ b\n",
    "    b = x << 1\n",
    "\n",
    "print(\"Sum:\", a)\n"
   ]
  },
  {
   "cell_type": "code",
   "execution_count": 20,
   "id": "8e4fa768-ee9c-4020-90d2-af595888999a",
   "metadata": {},
   "outputs": [
    {
     "name": "stdin",
     "output_type": "stream",
     "text": [
      "Enter the first number:  5\n",
      "Enter the second number:  6\n"
     ]
    },
    {
     "name": "stdout",
     "output_type": "stream",
     "text": [
      "Maximum of the two numbers is: 6\n"
     ]
    }
   ],
   "source": [
    "a = int(input(\"Enter the first number: \"))\n",
    "b = int(input(\"Enter the second number: \"))\n",
    "max_number = (a + b + abs(a - b)) // 2\n",
    "\n",
    "print(\"Maximum of the two numbers is:\", max_number)\n"
   ]
  },
  {
   "cell_type": "code",
   "execution_count": 22,
   "id": "b0d123a5-56aa-4209-8a8a-c6d5feecda84",
   "metadata": {},
   "outputs": [
    {
     "name": "stdin",
     "output_type": "stream",
     "text": [
      "Enter base of triangle:  6\n",
      "Enter height of triangle:  7\n"
     ]
    },
    {
     "name": "stdout",
     "output_type": "stream",
     "text": [
      "Area of triangle: 21.0\n"
     ]
    },
    {
     "name": "stdin",
     "output_type": "stream",
     "text": [
      "Enter radius of circle:  3.23\n"
     ]
    },
    {
     "name": "stdout",
     "output_type": "stream",
     "text": [
      "Area of circle: 32.775921995636956\n"
     ]
    },
    {
     "name": "stdin",
     "output_type": "stream",
     "text": [
      "Enter length of rectangle:  10\n",
      "Enter width of rectangle:  5\n"
     ]
    },
    {
     "name": "stdout",
     "output_type": "stream",
     "text": [
      "Area of rectangle: 50.0\n"
     ]
    }
   ],
   "source": [
    "import math\n",
    "base = float(input(\"Enter base of triangle: \"))\n",
    "height = float(input(\"Enter height of triangle: \"))\n",
    "triangle_area = 0.5 * base * height\n",
    "print(\"Area of triangle:\", triangle_area)\n",
    "\n",
    "radius = float(input(\"Enter radius of circle: \"))\n",
    "circle_area = math.pi * radius ** 2\n",
    "print(\"Area of circle in cm:\", circle_area)\n",
    "\n",
    "length = float(input(\"Enter length of rectangle: \"))\n",
    "width = float(input(\"Enter width of rectangle: \"))\n",
    "rectangle_area = length * width\n",
    "print(\"Area of rectangle:\", rectangle_area)\n"
   ]
  },
  {
   "cell_type": "code",
   "execution_count": 24,
   "id": "ac5c0cbf-e0e1-42c3-b1b5-c6427e545907",
   "metadata": {},
   "outputs": [
    {
     "name": "stdin",
     "output_type": "stream",
     "text": [
      "Enter the first number:  10\n",
      "Enter the second number:  20\n",
      "Enter the third number:  30\n"
     ]
    },
    {
     "name": "stdout",
     "output_type": "stream",
     "text": [
      "The middle number is: 20.0\n"
     ]
    }
   ],
   "source": [
    "num1 = float(input(\"Enter the first number: \"))\n",
    "num2 = float(input(\"Enter the second number: \"))\n",
    "num3 = float(input(\"Enter the third number: \"))\n",
    "\n",
    "numbers = [num1, num2, num3]\n",
    "numbers.sort()\n",
    "middle_number = numbers[1]\n",
    "\n",
    "print(f\"The middle number is: {middle_number}\")"
   ]
  },
  {
   "cell_type": "code",
   "execution_count": 28,
   "id": "7b5d1b47-8c63-4cb4-9430-25fb77f68653",
   "metadata": {},
   "outputs": [
    {
     "name": "stdin",
     "output_type": "stream",
     "text": [
      "Enter the first number:  10\n",
      "Enter the second number:  20\n",
      "Enter the third number:  5\n"
     ]
    },
    {
     "name": "stdout",
     "output_type": "stream",
     "text": [
      "The maximum number is: 20.0\n"
     ]
    }
   ],
   "source": [
    "num1 = float(input(\"Enter the first number: \"))\n",
    "num2 = float(input(\"Enter the second number: \"))\n",
    "num3 = float(input(\"Enter the third number: \"))\n",
    "\n",
    "max_num = num1\n",
    "if num2 > max_num:\n",
    "    max_num = num2\n",
    "if num3 > max_num:\n",
    "    max_num = num3\n",
    "\n",
    "print(f\"The maximum number is: {max_num}\")"
   ]
  },
  {
   "cell_type": "code",
   "execution_count": 32,
   "id": "76871a7e-ac4e-473f-a793-173a83418995",
   "metadata": {},
   "outputs": [
    {
     "name": "stdin",
     "output_type": "stream",
     "text": [
      "Enter the first number:  5\n",
      "Enter the second number:  6\n",
      "Enter the third number:  7\n"
     ]
    },
    {
     "name": "stdout",
     "output_type": "stream",
     "text": [
      "The minimum of the three numbers is: 5.0\n"
     ]
    }
   ],
   "source": [
    "num1 = float(input(\"Enter the first number: \"))\n",
    "num2 = float(input(\"Enter the second number: \"))\n",
    "num3 = float(input(\"Enter the third number: \"))\n",
    "\n",
    "minimum = num1 if num1 < num2 and num1 < num3 else (num2 if num2 < num3 else num3)\n",
    "\n",
    "print(f\"The minimum of the three numbers is: {minimum}\")"
   ]
  },
  {
   "cell_type": "code",
   "execution_count": 38,
   "id": "c952128e-fd14-4a6e-aa53-502ed22599d2",
   "metadata": {},
   "outputs": [
    {
     "name": "stdin",
     "output_type": "stream",
     "text": [
      "Enter the first side of the triangle:  3\n",
      "Enter the second side of the triangle:  3\n",
      "Enter the third side of the triangle:  3\n"
     ]
    },
    {
     "name": "stdout",
     "output_type": "stream",
     "text": [
      "The given sides form a triangle.\n"
     ]
    }
   ],
   "source": [
    "side1 = float(input(\"Enter the first side of the triangle: \"))\n",
    "side2 = float(input(\"Enter the second side of the triangle: \"))\n",
    "side3 = float(input(\"Enter the third side of the triangle: \"))\n",
    "\n",
    "if side1 + side2 > side3 and side1 + side3 > side2 and side2 + side3 > side1:\n",
    "    print(\"The given sides form a triangle.\")\n",
    "else:\n",
    "    print(\"The given sides do not form a triangle.\")"
   ]
  },
  {
   "cell_type": "code",
   "execution_count": 59,
   "id": "5319104b-302b-471d-b2e2-e29fa53edd78",
   "metadata": {},
   "outputs": [
    {
     "name": "stdin",
     "output_type": "stream",
     "text": [
      "Enter the first side of the triangle:  3\n",
      "Enter the second side of the triangle:  4\n",
      "Enter the third side of the triangle:  5\n"
     ]
    },
    {
     "name": "stdout",
     "output_type": "stream",
     "text": [
      "The triangle is a right-angled triangle.\n"
     ]
    }
   ],
   "source": [
    "side1 = float(input(\"Enter the first side of the triangle: \"))\n",
    "side2 = float(input(\"Enter the second side of the triangle: \"))\n",
    "side3 = float(input(\"Enter the third side of the triangle: \"))\n",
    "\n",
    "if side1 + side2 > side3 and side1 + side3 > side2 and side2 + side3 > side1:\n",
    "   \n",
    "    if side1 == side2 == side3:\n",
    "        print(\"The triangle is an equilateral triangle.\")\n",
    "   \n",
    "    elif side1 == side2 or side1 == side3 or side2 == side3:\n",
    "        print(\"The triangle is an isosceles triangle.\")\n",
    "   \n",
    "    elif (side1 ** 2 + side2 ** 2 == side3 ** 2 or\n",
    "          side1 ** 2 + side3 ** 2 == side2 ** 2 or\n",
    "          side2 ** 2 + side3 ** 2 == side1 ** 2):\n",
    "        print(\"The triangle is a right-angled triangle.\")\n",
    "    else:\n",
    "        print(\"The triangle is a scalene triangle.\")\n",
    "else:\n",
    "    print(\"The given sides do not form a triangle.\")"
   ]
  },
  {
   "cell_type": "code",
   "execution_count": null,
   "id": "ff4c3aee-f218-4f18-a6a0-5a49e1b446b5",
   "metadata": {},
   "outputs": [],
   "source": []
  },
  {
   "cell_type": "code",
   "execution_count": 63,
   "id": "dca2ab85-6552-4457-8780-8664b25fbc92",
   "metadata": {},
   "outputs": [
    {
     "name": "stdin",
     "output_type": "stream",
     "text": [
      "Enter a number:  200\n"
     ]
    },
    {
     "name": "stdout",
     "output_type": "stream",
     "text": [
      "Sum of digits: 2\n"
     ]
    }
   ],
   "source": [
    "    num = int(input(\"Enter a number: \"))\n",
    "    \n",
    "    sum_of_digits = 0\n",
    "    \n",
    "    while num > 0:\n",
    "        sum_of_digits += num % 10  \n",
    "        num //= 10  \n",
    "    \n",
    "    print(\"Sum of digits:\", sum_of_digits)"
   ]
  },
  {
   "cell_type": "code",
   "execution_count": 65,
   "id": "9adb8004-9ccf-4521-acdb-4fbc1e54178f",
   "metadata": {},
   "outputs": [
    {
     "name": "stdin",
     "output_type": "stream",
     "text": [
      "Enter a number:  5\n"
     ]
    },
    {
     "name": "stdout",
     "output_type": "stream",
     "text": [
      "5 is a prime number.\n"
     ]
    }
   ],
   "source": [
    "number = int(input(\"Enter a number: \"))\n",
    "\n",
    "if number <= 1:\n",
    "    print(f\"{number} is not a prime number.\")\n",
    "else:\n",
    "    is_prime = True\n",
    "    for i in range(2, int(number**0.5) + 1):\n",
    "        if number % i == 0:\n",
    "            is_prime = False\n",
    "            break\n",
    "\n",
    "    if is_prime:\n",
    "        print(f\"{number} is a prime number.\")\n",
    "    else:\n",
    "        print(f\"{number} is not a prime number.\")\n"
   ]
  },
  {
   "cell_type": "code",
   "execution_count": 78,
   "id": "7143fd42-b35b-43d1-b7d5-9b4393302e7c",
   "metadata": {},
   "outputs": [
    {
     "name": "stdin",
     "output_type": "stream",
     "text": [
      "Enter a number:  145\n"
     ]
    },
    {
     "name": "stdout",
     "output_type": "stream",
     "text": [
      "145 is a Strong Number.\n"
     ]
    }
   ],
   "source": [
    "number = int(input(\"Enter a number: \"))\n",
    "original_number = number\n",
    "sum_of_factorials = 0\n",
    "\n",
    "while number > 0:\n",
    "    digit = number % 10  \n",
    "    factorial = 1\n",
    "    \n",
    "    \n",
    "    for i in range(1, digit + 1):\n",
    "        factorial *= i\n",
    "\n",
    "    sum_of_factorials += factorial\n",
    "    number //= 10  \n",
    "\n",
    "\n",
    "if sum_of_factorials == original_number:\n",
    "    print(f\"{original_number} is a Strong Number.\")\n",
    "else:\n",
    "    print(f\"{original_number} is not a Strong Number.\")\n"
   ]
  },
  {
   "cell_type": "code",
   "execution_count": 82,
   "id": "acb4a832-5d86-4c36-ba2a-68f0fd029311",
   "metadata": {},
   "outputs": [
    {
     "name": "stdin",
     "output_type": "stream",
     "text": [
      "Enter a number:  13\n"
     ]
    },
    {
     "name": "stdout",
     "output_type": "stream",
     "text": [
      "13 is a Fibonacci number.\n"
     ]
    }
   ],
   "source": [
    "import math\n",
    "\n",
    "number = int(input(\"Enter a number: \"))\n",
    "\n",
    "\n",
    "n1 = 5 * number * number + 4\n",
    "n2 = 5 * number * number - 4\n",
    "is_fibonacci = False\n",
    "sqrt_n1 = int(math.sqrt(n1))\n",
    "if sqrt_n1 * sqrt_n1 == n1:\n",
    "    is_fibonacci = True\n",
    "\n",
    "sqrt_n2 = int(math.sqrt(n2))\n",
    "if sqrt_n2 * sqrt_n2 == n2:\n",
    "    is_fibonacci = True\n",
    "if is_fibonacci:\n",
    "    print(f\"{number} is a Fibonacci number.\")\n",
    "else:\n",
    "    print(f\"{number} is not a Fibonacci number.\")\n"
   ]
  },
  {
   "cell_type": "code",
   "execution_count": 84,
   "id": "fe7bf2f7-56d5-4797-b159-cbb92adb5987",
   "metadata": {},
   "outputs": [
    {
     "name": "stdin",
     "output_type": "stream",
     "text": [
      "Enter the start of the range:  1\n",
      "Enter the end of the range:  10\n"
     ]
    },
    {
     "name": "stdout",
     "output_type": "stream",
     "text": [
      "Odd numbers between 1 and 10 are:\n",
      "1 3 5 7 9 "
     ]
    }
   ],
   "source": [
    "start = int(input(\"Enter the start of the range: \"))\n",
    "end = int(input(\"Enter the end of the range: \"))\n",
    "\n",
    "print(f\"Odd numbers between {start} and {end} are:\")\n",
    "for num in range(start, end + 1):\n",
    "    if num % 2 != 0:  \n",
    "        print(num, end=\" \")\n"
   ]
  },
  {
   "cell_type": "code",
   "execution_count": 86,
   "id": "767d3861-ab67-4810-bb69-60e871167c87",
   "metadata": {},
   "outputs": [
    {
     "name": "stdin",
     "output_type": "stream",
     "text": [
      "Enter a number:  2\n"
     ]
    },
    {
     "name": "stdout",
     "output_type": "stream",
     "text": [
      "2 is a Twisted Prime.\n"
     ]
    }
   ],
   "source": [
    "number = int(input(\"Enter a number: \"))\n",
    "\n",
    "is_prime = True\n",
    "if number <= 1:\n",
    "    is_prime = False\n",
    "else:\n",
    "    for i in range(2, int(number**0.5) + 1):\n",
    "        if number % i == 0:\n",
    "            is_prime = False\n",
    "            break\n",
    "\n",
    "reversed_number = int(str(number)[::-1])\n",
    "\n",
    "is_reverse_prime = True\n",
    "if reversed_number <= 1:\n",
    "    is_reverse_prime = False\n",
    "else:\n",
    "    for i in range(2, int(reversed_number**0.5) + 1):\n",
    "        if reversed_number % i == 0:\n",
    "            is_reverse_prime = False\n",
    "            break\n",
    "\n",
    "if is_prime and is_reverse_prime:\n",
    "    print(f\"{number} is a Twisted Prime.\")\n",
    "else:\n",
    "    print(f\"{number} is not a Twisted Prime.\")\n"
   ]
  },
  {
   "cell_type": "code",
   "execution_count": 90,
   "id": "d8385fc5-a694-4398-a3de-882faf34a5ae",
   "metadata": {},
   "outputs": [
    {
     "name": "stdin",
     "output_type": "stream",
     "text": [
      "Enter a number:  5\n"
     ]
    },
    {
     "name": "stdout",
     "output_type": "stream",
     "text": [
      "5 is a Palindrome.\n"
     ]
    }
   ],
   "source": [
    "number = int(input(\"Enter a number: \"))\n",
    "\n",
    "original_number = number\n",
    "reversed_number = 0\n",
    "\n",
    "while number > 0:\n",
    "    digit = number % 10\n",
    "    reversed_number = reversed_number * 10 + digit\n",
    "    number //= 10\n",
    "\n",
    "if original_number == reversed_number:\n",
    "    print(f\"{original_number} is a Palindrome.\")\n",
    "else:\n",
    "    print(f\"{original_number} is not a Palindrome.\")\n"
   ]
  },
  {
   "cell_type": "code",
   "execution_count": 94,
   "id": "e699a79b-6750-47e3-99ed-e193e9eb2650",
   "metadata": {},
   "outputs": [
    {
     "name": "stdin",
     "output_type": "stream",
     "text": [
      "Enter a number:  4\n"
     ]
    },
    {
     "name": "stdout",
     "output_type": "stream",
     "text": [
      "4 is an Armstrong number.\n"
     ]
    }
   ],
   "source": [
    "number = int(input(\"Enter a number: \"))\n",
    "\n",
    "original_number = number\n",
    "sum_of_powers = 0\n",
    "num_digits = len(str(number))\n",
    "\n",
    "while number > 0:\n",
    "    digit = number % 10\n",
    "    sum_of_powers += digit ** num_digits\n",
    "    number //= 10\n",
    "\n",
    "if sum_of_powers == original_number:\n",
    "    print(f\"{original_number} is an Armstrong number.\")\n",
    "else:\n",
    "    print(f\"{original_number} is not an Armstrong number.\")\n"
   ]
  },
  {
   "cell_type": "code",
   "execution_count": 100,
   "id": "41df0d84-e882-4129-a5b8-7b1819e3877c",
   "metadata": {},
   "outputs": [
    {
     "name": "stdin",
     "output_type": "stream",
     "text": [
      "Enter a decimal number:  255\n"
     ]
    },
    {
     "name": "stdout",
     "output_type": "stream",
     "text": [
      "Hexadecimal representation: FF\n"
     ]
    },
    {
     "name": "stdin",
     "output_type": "stream",
     "text": [
      "Enter a hexadecimal number:  A\n"
     ]
    },
    {
     "name": "stdout",
     "output_type": "stream",
     "text": [
      "Decimal representation: 10\n"
     ]
    }
   ],
   "source": [
    "decimal_number = int(input(\"Enter a decimal number: \"))\n",
    "hexadecimal_number = hex(decimal_number)[2:]  \n",
    "print(f\"Hexadecimal representation: {hexadecimal_number.upper()}\")\n",
    "\n",
    "hexadecimal_input = input(\"Enter a hexadecimal number: \")\n",
    "decimal_from_hex = int(hexadecimal_input, 16)\n",
    "print(f\"Decimal representation: {decimal_from_hex}\")\n"
   ]
  },
  {
   "cell_type": "code",
   "execution_count": null,
   "id": "76e4f6c4-b5eb-4bc0-af60-b06d18db79d7",
   "metadata": {},
   "outputs": [],
   "source": []
  }
 ],
 "metadata": {
  "kernelspec": {
   "display_name": "Python [conda env:base] *",
   "language": "python",
   "name": "conda-base-py"
  },
  "language_info": {
   "codemirror_mode": {
    "name": "ipython",
    "version": 3
   },
   "file_extension": ".py",
   "mimetype": "text/x-python",
   "name": "python",
   "nbconvert_exporter": "python",
   "pygments_lexer": "ipython3",
   "version": "3.12.7"
  }
 },
 "nbformat": 4,
 "nbformat_minor": 5
}
