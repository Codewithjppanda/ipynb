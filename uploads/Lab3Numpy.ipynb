{
 "cells": [
  {
   "cell_type": "code",
   "execution_count": 169,
   "id": "a569ce94-c827-490d-8984-4daf8d9b6efe",
   "metadata": {},
   "outputs": [
    {
     "name": "stdout",
     "output_type": "stream",
     "text": [
      "[1 2 3 4 5]\n"
     ]
    }
   ],
   "source": [
    "#Jyotiprakash Panda \n",
    "#Rollno:22052464\n",
    "\n",
    "import numpy as np\n",
    "arr = np.array([1,2,3,4,5])\n",
    "print(arr)"
   ]
  },
  {
   "cell_type": "code",
   "execution_count": 3,
   "id": "436a6ab3-7f83-49ae-9554-228c0bd73fdb",
   "metadata": {},
   "outputs": [
    {
     "name": "stdout",
     "output_type": "stream",
     "text": [
      "2.1.3\n"
     ]
    }
   ],
   "source": [
    "import numpy as np\n",
    "print(np.__version__)"
   ]
  },
  {
   "cell_type": "code",
   "execution_count": 9,
   "id": "c994d7bf-2479-4ddb-8f29-8761a613bc4f",
   "metadata": {},
   "outputs": [
    {
     "name": "stdout",
     "output_type": "stream",
     "text": [
      "42\n"
     ]
    }
   ],
   "source": [
    "import numpy as np\n",
    "arr = np.array(42)\n",
    "print(arr)"
   ]
  },
  {
   "cell_type": "code",
   "execution_count": 11,
   "id": "2d4671bd-984a-420b-8153-e8d7b94392a4",
   "metadata": {},
   "outputs": [
    {
     "name": "stdout",
     "output_type": "stream",
     "text": [
      "[[1 2 3]\n",
      " [4 5 6]]\n"
     ]
    }
   ],
   "source": [
    "import numpy as np\n",
    "arr = np.array([[1,2,3],[4,5,6]])\n",
    "print(arr)"
   ]
  },
  {
   "cell_type": "code",
   "execution_count": 23,
   "id": "e3115dd1-8a5b-43c9-a823-0c60a9e3b8ca",
   "metadata": {},
   "outputs": [
    {
     "name": "stdout",
     "output_type": "stream",
     "text": [
      "[[[ 1  2  3]\n",
      "  [ 4  5  6]\n",
      "  [ 7  8  9]\n",
      "  [10 11 12]]]\n"
     ]
    }
   ],
   "source": [
    "import numpy as np\n",
    "arr = np.array([[[1, 2, 3], [4, 5, 6], [7, 8, 9], [10, 11, 12]]])\n",
    "print(arr)\n"
   ]
  },
  {
   "cell_type": "code",
   "execution_count": 27,
   "id": "cb9a7786-bfa5-4df5-8f64-93574b216e70",
   "metadata": {},
   "outputs": [
    {
     "name": "stdout",
     "output_type": "stream",
     "text": [
      "1\n",
      "0\n",
      "2\n",
      "3\n"
     ]
    }
   ],
   "source": [
    "import numpy as np\n",
    "a = np.array([1,2,3,4,5])\n",
    "b = np.array(42)\n",
    "c = np.array([[1,2,3],[4,5,6]])\n",
    "d = np.array([[[1, 2, 3], [4, 5, 6], [7, 8, 9], [10, 11, 12]]])\n",
    "print(a.ndim)\n",
    "print(b.ndim)\n",
    "print(c.ndim)\n",
    "print(d.ndim)\n"
   ]
  },
  {
   "cell_type": "code",
   "execution_count": 29,
   "id": "b0893fbb-6561-400b-9fd9-bfd2da354efe",
   "metadata": {},
   "outputs": [
    {
     "name": "stdout",
     "output_type": "stream",
     "text": [
      "2\n"
     ]
    }
   ],
   "source": [
    "import numpy as np\n",
    "arr = np.array([1,2,3,4])\n",
    "print(arr[1])"
   ]
  },
  {
   "cell_type": "code",
   "execution_count": 31,
   "id": "763577ca-e643-480c-baf4-d90c19a93f86",
   "metadata": {},
   "outputs": [
    {
     "name": "stdout",
     "output_type": "stream",
     "text": [
      "6\n"
     ]
    }
   ],
   "source": [
    "import numpy as np\n",
    "arr = np.array([1,2,3,4])\n",
    "print(arr[1] + arr[3])\n"
   ]
  },
  {
   "cell_type": "code",
   "execution_count": 41,
   "id": "a303a3d2-f83e-48b4-bb2a-131dd2a6d817",
   "metadata": {},
   "outputs": [
    {
     "name": "stdout",
     "output_type": "stream",
     "text": [
      "4th element on 2nd row is: 9\n"
     ]
    }
   ],
   "source": [
    "import numpy as np\n",
    "arr = np.array([[1,2,3,4,5],[6,7,8,9,10]])\n",
    "print('4th element on 2nd row is:', arr[1,3])"
   ]
  },
  {
   "cell_type": "code",
   "execution_count": 43,
   "id": "361708b1-90af-4a8f-9a3e-61096f37241e",
   "metadata": {},
   "outputs": [
    {
     "name": "stdout",
     "output_type": "stream",
     "text": [
      "6\n"
     ]
    }
   ],
   "source": [
    "import numpy as np \n",
    "arr = np.array([[[1, 2, 3], [4, 5, 6], [7, 8, 9], [10, 11, 12]]])\n",
    "print(arr[0,1,2])"
   ]
  },
  {
   "cell_type": "code",
   "execution_count": 47,
   "id": "cea7d04e-894b-4b30-b53c-73892ca24947",
   "metadata": {},
   "outputs": [
    {
     "name": "stdout",
     "output_type": "stream",
     "text": [
      "last element from 2nd dim 3\n"
     ]
    }
   ],
   "source": [
    "import numpy as np \n",
    "arr = np.array([[1,2,3,4,5],[6,7,8,9,10]])\n",
    "print('last element from 2nd dim',arr[-2,-3])"
   ]
  },
  {
   "cell_type": "code",
   "execution_count": 55,
   "id": "6e7adb67-04d2-4ec5-a7e4-2362af141db6",
   "metadata": {},
   "outputs": [
    {
     "name": "stdout",
     "output_type": "stream",
     "text": [
      "6\n",
      "28000\n",
      "8000\n"
     ]
    }
   ],
   "source": [
    "import numpy as np\n",
    "import time \n",
    "import sys\n",
    "\n",
    "s = range(1000)\n",
    "print(s[6])\n",
    "\n",
    "print(sys.getsizeof(6) * len(s))\n",
    "\n",
    "D = np.arange(1000)\n",
    "print(D.size * D.itemsize)\n"
   ]
  },
  {
   "cell_type": "code",
   "execution_count": 57,
   "id": "575345a4-8b19-4fe9-9ab3-5b323833ba34",
   "metadata": {},
   "outputs": [
    {
     "name": "stdout",
     "output_type": "stream",
     "text": [
      "[3 8]\n"
     ]
    }
   ],
   "source": [
    "import numpy as np\n",
    "arr = np.array([[1,2,3,4,5],[6,7,8,9,10]])\n",
    "print(arr[0:2,2])"
   ]
  },
  {
   "cell_type": "code",
   "execution_count": 59,
   "id": "ec31c6a5-54af-41d8-aeab-790fa655c6ba",
   "metadata": {},
   "outputs": [
    {
     "name": "stdout",
     "output_type": "stream",
     "text": [
      "[[2 3 4]\n",
      " [7 8 9]]\n"
     ]
    }
   ],
   "source": [
    "import numpy as np\n",
    "arr = np.array([[1,2,3,4,5],[6,7,8,9,10]])\n",
    "print(arr[0:2,1:4])"
   ]
  },
  {
   "cell_type": "code",
   "execution_count": 61,
   "id": "230e9745-3733-405d-aa64-09f9993d4074",
   "metadata": {},
   "outputs": [
    {
     "name": "stdout",
     "output_type": "stream",
     "text": [
      "<U6\n"
     ]
    }
   ],
   "source": [
    "import numpy as np\n",
    "arr = np.array(['apple','banana','cherry'])\n",
    "print(arr.dtype)"
   ]
  },
  {
   "cell_type": "code",
   "execution_count": 69,
   "id": "68701054-b3a5-45a4-950b-79b1a4f04cb0",
   "metadata": {},
   "outputs": [
    {
     "name": "stdout",
     "output_type": "stream",
     "text": [
      "[b'1' b'2' b'3' b'4']\n",
      "|S1\n"
     ]
    }
   ],
   "source": [
    "import numpy as np\n",
    "arr = np.array([1,2,3,4], dtype='S')\n",
    "print(arr)\n",
    "print(arr.dtype)"
   ]
  },
  {
   "cell_type": "code",
   "execution_count": 71,
   "id": "74655149-7613-4c4b-b5b9-cbbb39ce221a",
   "metadata": {},
   "outputs": [
    {
     "name": "stdout",
     "output_type": "stream",
     "text": [
      "[42  2  3  4  5]\n",
      "[1 2 3 4 5]\n"
     ]
    }
   ],
   "source": [
    "arr = np.array([1,2,3,4,5])\n",
    "x = arr.copy()\n",
    "arr[0]=42\n",
    "print(arr)\n",
    "print(x)"
   ]
  },
  {
   "cell_type": "code",
   "execution_count": 73,
   "id": "d5307511-69f9-4f6e-8310-3749b22edb7d",
   "metadata": {},
   "outputs": [
    {
     "name": "stdout",
     "output_type": "stream",
     "text": [
      "[42  2  3  4  5]\n",
      "[42  2  3  4  5]\n"
     ]
    }
   ],
   "source": [
    "arr = np.array([1,2,3,4,5])\n",
    "x = arr.view()\n",
    "arr[0]=42\n",
    "print(arr)\n",
    "print(x)"
   ]
  },
  {
   "cell_type": "code",
   "execution_count": 75,
   "id": "1306fa92-2f1f-4f0f-b1b4-9172d7ca4807",
   "metadata": {},
   "outputs": [
    {
     "name": "stdout",
     "output_type": "stream",
     "text": [
      "(2, 5)\n"
     ]
    }
   ],
   "source": [
    "import numpy as np\n",
    "arr = np.array([[1,2,3,4,5],[6,7,8,9,10]])\n",
    "print(arr.shape)"
   ]
  },
  {
   "cell_type": "code",
   "execution_count": 77,
   "id": "c05754cf-b60b-4ce4-93fb-cc8b627959ed",
   "metadata": {},
   "outputs": [
    {
     "name": "stdout",
     "output_type": "stream",
     "text": [
      "[[ 1  2  3  4]\n",
      " [ 5  6  7  8]\n",
      " [ 9 10 11 12]]\n"
     ]
    }
   ],
   "source": [
    "import numpy as np\n",
    "arr = np.array([1,2,3,4,5,6,7,8,9,10,11,12])\n",
    "newarr = arr.reshape(3,4)\n",
    "print(newarr)"
   ]
  },
  {
   "cell_type": "code",
   "execution_count": 79,
   "id": "2847d5eb-d123-432f-b5c5-82de908357bb",
   "metadata": {},
   "outputs": [
    {
     "name": "stdout",
     "output_type": "stream",
     "text": [
      "[[[ 1  2]\n",
      "  [ 3  4]\n",
      "  [ 5  6]]\n",
      "\n",
      " [[ 7  8]\n",
      "  [ 9 10]\n",
      "  [11 12]]]\n"
     ]
    }
   ],
   "source": [
    "import numpy as np\n",
    "arr = np.array([1,2,3,4,5,6,7,8,9,10,11,12])\n",
    "newarr = arr.reshape(2,3,2)\n",
    "print(newarr)"
   ]
  },
  {
   "cell_type": "code",
   "execution_count": 81,
   "id": "3bdfc688-4040-4870-9d35-49440eebd856",
   "metadata": {},
   "outputs": [
    {
     "name": "stdout",
     "output_type": "stream",
     "text": [
      "[1 2 3]\n",
      "[4 5 6]\n"
     ]
    }
   ],
   "source": [
    "import numpy as np\n",
    "arr = np.array([[1,2,3],[4,5,6]])\n",
    "for x in arr:\n",
    "    print(x)"
   ]
  },
  {
   "cell_type": "code",
   "execution_count": 83,
   "id": "ca3928e9-7fbc-4f0d-9f59-2657be0ae788",
   "metadata": {},
   "outputs": [
    {
     "name": "stdout",
     "output_type": "stream",
     "text": [
      "1\n",
      "2\n",
      "3\n",
      "4\n",
      "5\n",
      "6\n"
     ]
    }
   ],
   "source": [
    "import numpy as np\n",
    "arr = np.array([[1,2,3],[4,5,6]])\n",
    "for x in arr:\n",
    "    for y in x:\n",
    "        print(y)"
   ]
  },
  {
   "cell_type": "code",
   "execution_count": 93,
   "id": "a162f287-7a5a-4586-ab08-f5fc6b1411a7",
   "metadata": {},
   "outputs": [
    {
     "name": "stdout",
     "output_type": "stream",
     "text": [
      "[1 2 3 4 5 6]\n"
     ]
    }
   ],
   "source": [
    "import numpy as np\n",
    "\n",
    "arr1 = np.array([1, 2, 3])\n",
    "arr2 = np.array([4, 5, 6])\n",
    "arr = np.concatenate((arr1, arr2)) \n",
    "print(arr)\n"
   ]
  },
  {
   "cell_type": "code",
   "execution_count": 101,
   "id": "2510d065-bbb1-4b31-bf15-e475c3d0dd27",
   "metadata": {},
   "outputs": [
    {
     "name": "stdout",
     "output_type": "stream",
     "text": [
      "[1 2 3 4 5 6]\n"
     ]
    }
   ],
   "source": [
    "import numpy as np\n",
    "arr1=np.array([1,2,3])\n",
    "arr2=np.array([4,5,6])\n",
    "arr=np.concatenate((arr1,arr2),axis=0) \n",
    "print(arr)"
   ]
  },
  {
   "cell_type": "code",
   "execution_count": 99,
   "id": "4acc842a-fbd2-4ac6-bfb0-7904c0d3cdde",
   "metadata": {},
   "outputs": [
    {
     "name": "stdout",
     "output_type": "stream",
     "text": [
      "[[[[[1 2 3 4]]]]]\n",
      "Number of dimensions: 5\n"
     ]
    }
   ],
   "source": [
    "import numpy as np\n",
    "\n",
    "\n",
    "arr = np.array([1, 2, 3, 4], ndmin=5)\n",
    "print(arr)\n",
    "print('Number of dimensions:', arr.ndim)\n"
   ]
  },
  {
   "cell_type": "code",
   "execution_count": 103,
   "id": "ecd7635d-6459-49ad-9330-1fb0d02fb75d",
   "metadata": {},
   "outputs": [
    {
     "name": "stdout",
     "output_type": "stream",
     "text": [
      "[[1 2]\n",
      " [3 4]\n",
      " [5 6]\n",
      " [7 8]]\n"
     ]
    }
   ],
   "source": [
    "import numpy as np\n",
    "arr1=np.array([[1,2],[3,4]])\n",
    "arr2=np.array([[5,6],[7,8]])\n",
    "arr=np.concatenate((arr1,arr2),axis=0) \n",
    "print(arr)"
   ]
  },
  {
   "cell_type": "code",
   "execution_count": 105,
   "id": "2359a189-0027-4bc3-8820-d375ff783518",
   "metadata": {},
   "outputs": [
    {
     "name": "stdout",
     "output_type": "stream",
     "text": [
      "[[1 2 5 6]\n",
      " [3 4 7 8]]\n"
     ]
    }
   ],
   "source": [
    "import numpy as np\n",
    "arr1=np.array([[1,2],[3,4]])\n",
    "arr2=np.array([[5,6],[7,8]])\n",
    "arr=np.concatenate((arr1,arr2),axis=1) \n",
    "print(arr)"
   ]
  },
  {
   "cell_type": "code",
   "execution_count": 107,
   "id": "f3e73282-6c0c-44bb-990d-5e6edd1901d7",
   "metadata": {},
   "outputs": [
    {
     "name": "stdout",
     "output_type": "stream",
     "text": [
      "[array([[1, 2, 3],\n",
      "       [4, 5, 6]]), array([[ 7,  8,  9],\n",
      "       [10, 11, 12]]), array([[13, 14, 15],\n",
      "       [16, 17, 18]])]\n"
     ]
    }
   ],
   "source": [
    "import numpy as np\n",
    "arr=np.array([[1,2,3],[4,5,6],[7,8,9],[10,11,12],[13,14,15],[16,17,18]])\n",
    "newarr=np.array_split(arr,3)\n",
    "print(newarr)"
   ]
  },
  {
   "cell_type": "code",
   "execution_count": 113,
   "id": "719cf2c8-f626-4d6e-849c-e4db8aae8d5b",
   "metadata": {},
   "outputs": [
    {
     "name": "stdout",
     "output_type": "stream",
     "text": [
      "1D Array of the first 10 natural numbers: [ 1  2  3  4  5  6  7  8  9 10]\n"
     ]
    }
   ],
   "source": [
    "import numpy as np\n",
    "arr1 = np.arange(1, 11)\n",
    "print('1D Array of the first 10 natural numbers:', arr1)\n"
   ]
  },
  {
   "cell_type": "code",
   "execution_count": 115,
   "id": "dd63d162-f499-4cfd-a8ab-2256ea3640f7",
   "metadata": {},
   "outputs": [
    {
     "name": "stdout",
     "output_type": "stream",
     "text": [
      "First two columns of a 2D array: [[ 1  2]\n",
      " [ 5  6]\n",
      " [ 9 10]]\n"
     ]
    }
   ],
   "source": [
    "import numpy as np\n",
    "arr2 = np.array([[1, 2, 3, 4], [5, 6, 7, 8], [9, 10, 11, 12]])\n",
    "first_two_columns = arr2[:, :2]\n",
    "print(\"First two columns of a 2D array:\", first_two_columns)\n"
   ]
  },
  {
   "cell_type": "code",
   "execution_count": 121,
   "id": "39677fc0-fd3a-422f-b57d-46c6a8d2ee75",
   "metadata": {},
   "outputs": [
    {
     "name": "stdout",
     "output_type": "stream",
     "text": [
      "3x3 Array of random numbers: [[0.26453187 0.63786804 0.57401769]\n",
      " [0.14278145 0.91175555 0.46485479]\n",
      " [0.45108568 0.85263649 0.06676114]]\n",
      "Shape of the array: (3, 3)\n"
     ]
    }
   ],
   "source": [
    "import numpy as np\n",
    "arr3 = np.random.random((3, 3))\n",
    "print(\"3x3 Array of random numbers:\", arr3)\n",
    "print(\"Shape of the array:\",arr3.shape)"
   ]
  },
  {
   "cell_type": "code",
   "execution_count": 123,
   "id": "1b715f13-4d06-44ed-a70e-f26db7f87dfe",
   "metadata": {},
   "outputs": [
    {
     "name": "stdout",
     "output_type": "stream",
     "text": [
      "Reshaped 4x4 matrix: [[ 1  2  3  4]\n",
      " [ 5  6  7  8]\n",
      " [ 9 10 11 12]\n",
      " [13 14 15 16]]\n"
     ]
    }
   ],
   "source": [
    "import numpy as np\n",
    "arr4 = np.arange(1, 17)\n",
    "reshaped_arr4 = arr4.reshape(4, 4)\n",
    "print(\"Reshaped 4x4 matrix:\", reshaped_arr4)\n"
   ]
  },
  {
   "cell_type": "code",
   "execution_count": 131,
   "id": "4d7fadf2-ad8f-4d74-b774-dff5a3f52fbc",
   "metadata": {},
   "outputs": [
    {
     "name": "stdout",
     "output_type": "stream",
     "text": [
      "Element-wise addition: , [ 6  8 10 12]\n",
      "Element-wise subtraction: [-4 -4 -4 -4]\n",
      "Element-wise multiplication: [ 5 12 21 32]\n",
      "Element-wise division: [0.2        0.33333333 0.42857143 0.5       ]\n"
     ]
    }
   ],
   "source": [
    "import numpy as np\n",
    "a = np.array([1, 2, 3, 4])\n",
    "b = np.array([5, 6, 7, 8])\n",
    "add = a + b\n",
    "print(\"Element-wise addition:\",add)\n",
    "sub = a - b\n",
    "print(\"Element-wise subtraction:\", sub)\n",
    "mul = a * b\n",
    "print(\"Element-wise multiplication:\", mul)\n",
    "div = a / b\n",
    "print(\"Element-wise division:\", div)\n"
   ]
  },
  {
   "cell_type": "code",
   "execution_count": null,
   "id": "52deea89-4d93-415c-a729-da22b194f8d6",
   "metadata": {},
   "outputs": [],
   "source": []
  },
  {
   "cell_type": "code",
   "execution_count": 135,
   "id": "6cceb829-ea1b-4018-879f-5b42fe7394ba",
   "metadata": {},
   "outputs": [
    {
     "name": "stdout",
     "output_type": "stream",
     "text": [
      "Dot Product:\n",
      " [[ 58  64]\n",
      " [139 154]]\n"
     ]
    }
   ],
   "source": [
    "import numpy as np\n",
    "array1 = np.array([[1, 2, 3], [4, 5, 6]])\n",
    "array2 = np.array([[7, 8], [9, 10], [11, 12]])\n",
    "dot_product = np.dot(array1, array2)\n",
    "print(\"Dot Product:\\n\", dot_product)"
   ]
  },
  {
   "cell_type": "code",
   "execution_count": 137,
   "id": "2bbea123-f75e-4910-a9b0-250253c9782b",
   "metadata": {},
   "outputs": [
    {
     "name": "stdout",
     "output_type": "stream",
     "text": [
      "Mean: 5.5\n",
      "Median: 5.5\n",
      "Standard Deviation: 2.8722813232690143\n"
     ]
    }
   ],
   "source": [
    "import numpy as np\n",
    "data = np.array([1, 2, 3, 4, 5, 6, 7, 8, 9, 10])\n",
    "mean = np.mean(data)\n",
    "median = np.median(data)\n",
    "std_dev = np.std(data)\n",
    "\n",
    "print(\"Mean:\", mean)\n",
    "print(\"Median:\", median)\n",
    "print(\"Standard Deviation:\", std_dev)"
   ]
  },
  {
   "cell_type": "code",
   "execution_count": null,
   "id": "351273ad-7f08-4a5c-92d5-e5bf096b4967",
   "metadata": {},
   "outputs": [],
   "source": []
  },
  {
   "cell_type": "code",
   "execution_count": 147,
   "id": "42049085-0df0-4195-a4f3-b2a55da4cbe4",
   "metadata": {},
   "outputs": [
    {
     "name": "stdout",
     "output_type": "stream",
     "text": [
      "Even Numbers: [ 2  4  6  8 10 12 14 16 18 20]\n"
     ]
    }
   ],
   "source": [
    "import numpy as np\n",
    "num = np.arange(1, 21)\n",
    "even_mask = (num % 2 == 0)\n",
    "even_numbers = num[even_mask]\n",
    "print(\"Even Numbers:\", even_numbers)"
   ]
  },
  {
   "cell_type": "code",
   "execution_count": null,
   "id": "12c52e45-710a-4703-8279-b111be46d3b1",
   "metadata": {},
   "outputs": [],
   "source": []
  },
  {
   "cell_type": "code",
   "execution_count": 149,
   "id": "59b900ed-bf95-4380-94a0-59dce5776dd8",
   "metadata": {},
   "outputs": [
    {
     "name": "stdout",
     "output_type": "stream",
     "text": [
      "Logical AND (array > 3): [False False False  True  True]\n",
      "Logical OR (array < 3): [ True  True False False False]\n"
     ]
    }
   ],
   "source": [
    "import numpy as np\n",
    "array = np.array([1, 2, 3, 4, 5])\n",
    "logical_and = array > 3  \n",
    "logical_or = array < 3   \n",
    "print(\"Logical AND (array > 3):\", logical_and)\n",
    "print(\"Logical OR (array < 3):\", logical_or)"
   ]
  },
  {
   "cell_type": "code",
   "execution_count": 153,
   "id": "88da9632-0f51-4540-854d-b14b76768fcb",
   "metadata": {},
   "outputs": [
    {
     "name": "stdout",
     "output_type": "stream",
     "text": [
      "Concatenated along rows:\n",
      " [[ 1  2  3]\n",
      " [ 4  5  6]\n",
      " [ 7  8  9]\n",
      " [10 11 12]]\n",
      "Concatenated along columns:\n",
      " [[ 1  2  3  7  8  9]\n",
      " [ 4  5  6 10 11 12]]\n"
     ]
    }
   ],
   "source": [
    "import numpy as np\n",
    "array1 = np.array([[1, 2, 3], [4, 5, 6]])\n",
    "array2 = np.array([[7, 8, 9], [10, 11, 12]])\n",
    "concat_rows = np.concatenate((array1, array2), axis=0)\n",
    "print(\"Concatenated along rows:\\n\", concat_rows)\n",
    "concat_columns = np.concatenate((array1, array2), axis=1)\n",
    "print(\"Concatenated along columns:\\n\", concat_columns)"
   ]
  },
  {
   "cell_type": "code",
   "execution_count": null,
   "id": "c241cb7a-e86c-436f-b8f8-828d57628d4b",
   "metadata": {},
   "outputs": [],
   "source": []
  },
  {
   "cell_type": "code",
   "execution_count": 155,
   "id": "cbbfbea6-2504-48c5-a18f-f31d10ea18a8",
   "metadata": {},
   "outputs": [
    {
     "name": "stdout",
     "output_type": "stream",
     "text": [
      "Split Arrays: [array([[0, 1],\n",
      "       [2, 3]]), array([[4, 5],\n",
      "       [6, 7]]), array([[ 8,  9],\n",
      "       [10, 11]]), array([[12, 13],\n",
      "       [14, 15]]), array([[16, 17],\n",
      "       [18, 19]])]\n"
     ]
    }
   ],
   "source": [
    "import numpy as np\n",
    "\n",
    "array = np.arange(20).reshape(10, 2)\n",
    "split_arrays = np.split(array, 5)\n",
    "print(\"Split Arrays:\", split_arrays)"
   ]
  },
  {
   "cell_type": "code",
   "execution_count": 157,
   "id": "c04f2f92-e463-4489-a2da-45f0013006a3",
   "metadata": {},
   "outputs": [
    {
     "name": "stdout",
     "output_type": "stream",
     "text": [
      "Broadcasting Result:\n",
      " [[11 22]\n",
      " [13 24]\n",
      " [15 26]]\n"
     ]
    }
   ],
   "source": [
    "import numpy as np\n",
    "\n",
    "array_2d = np.array([[1, 2], [3, 4], [5, 6]])\n",
    "array_1d = np.array([10, 20])\n",
    "result = array_2d + array_1d\n",
    "print(\"Broadcasting Result:\\n\", result)"
   ]
  },
  {
   "cell_type": "code",
   "execution_count": 159,
   "id": "2e4bb2c7-de11-4eb0-994d-6e1a223f4559",
   "metadata": {},
   "outputs": [
    {
     "name": "stdout",
     "output_type": "stream",
     "text": [
      "Fancy Indexed Array: [10 30 50]\n"
     ]
    }
   ],
   "source": [
    "import numpy as np\n",
    "\n",
    "array = np.array([10, 20, 30, 40, 50])\n",
    "indices = np.array([0, 2, 4])\n",
    "fancy_indexed_array = array[indices]\n",
    "print(\"Fancy Indexed Array:\", fancy_indexed_array)"
   ]
  },
  {
   "cell_type": "code",
   "execution_count": 167,
   "id": "7cd7cdf9-d763-4d34-b8fe-62ab47b9cb3f",
   "metadata": {},
   "outputs": [
    {
     "name": "stdout",
     "output_type": "stream",
     "text": [
      "NumPy Sum: 500073.59524609806 Time: 0.0010046958923339844\n",
      "Loop Sum: 500073.5952460875 Time: 0.14966416358947754\n"
     ]
    }
   ],
   "source": [
    "import numpy as np\n",
    "import time\n",
    "\n",
    "size = 1000000\n",
    "array = np.random.rand(size)\n",
    "\n",
    "start_time = time.time()\n",
    "sum_numpy = np.sum(array)\n",
    "numpy_time = time.time() - start_time\n",
    "\n",
    "start_time = time.time()\n",
    "sum_loop = 0\n",
    "for i in array:\n",
    "    sum_loop += i\n",
    "loop_time = time.time() - start_time\n",
    "\n",
    "print(\"NumPy Sum:\", sum_numpy, \"Time:\", numpy_time)\n",
    "print(\"Loop Sum:\", sum_loop, \"Time:\", loop_time)"
   ]
  },
  {
   "cell_type": "code",
   "execution_count": 171,
   "id": "47c828b8-1535-4622-a970-e032e6c570d4",
   "metadata": {},
   "outputs": [
    {
     "name": "stdout",
     "output_type": "stream",
     "text": [
      "C-style Array:\n",
      " [[1 2]\n",
      " [3 4]]\n",
      "Fortran-style Array:\n",
      " [[1 2]\n",
      " [3 4]]\n",
      "C-style Transpose Time: 0.0\n",
      "Fortran-style Transpose Time: 0.0\n"
     ]
    }
   ],
   "source": [
    "import numpy as np\n",
    "import time\n",
    "\n",
    "array_c = np.array([[1, 2], [3, 4]], order='C')\n",
    "array_f = np.asfortranarray([[1, 2], [3, 4]])\n",
    "\n",
    "print(\"C-style Array:\\n\", array_c)\n",
    "print(\"Fortran-style Array:\\n\", array_f)\n",
    "\n",
    "start_time = time.time()\n",
    "_ = array_c.T\n",
    "c_time = time.time() - start_time\n",
    "\n",
    "start_time = time.time()\n",
    "_ = array_f.T\n",
    "f_time = time.time() - start_time\n",
    "\n",
    "print(\"C-style Transpose Time:\", c_time)\n",
    "print(\"Fortran-style Transpose Time:\", f_time)\n"
   ]
  },
  {
   "cell_type": "code",
   "execution_count": 173,
   "id": "646bea46-7909-4f4f-835a-526a815acd31",
   "metadata": {},
   "outputs": [
    {
     "name": "stdout",
     "output_type": "stream",
     "text": [
      "Row-wise operation (sum of rows):\n",
      "C-style layout time: 0.002874 seconds\n",
      "Fortran-style layout time: 0.001498 seconds\n",
      "\n",
      "Column-wise operation (sum of columns):\n",
      "C-style layout time: 0.001379 seconds\n",
      "Fortran-style layout time: 0.002579 seconds\n"
     ]
    }
   ],
   "source": [
    "import numpy as np\n",
    "import time\n",
    "\n",
    "\n",
    "array = np.random.rand(1000, 1000)\n",
    "array_c = np.ascontiguousarray(array)\n",
    "array_f = np.asfortranarray(array)\n",
    "start_time_c = time.perf_counter()\n",
    "row_sums_c = array_c.sum(axis=1)\n",
    "time_c = time.perf_counter() - start_time_c\n",
    "\n",
    "start_time_f = time.perf_counter()\n",
    "row_sums_f = array_f.sum(axis=1)\n",
    "time_f = time.perf_counter() - start_time_f\n",
    "start_time_c_col = time.perf_counter()\n",
    "col_sums_c = array_c.sum(axis=0)\n",
    "time_c_col = time.perf_counter() - start_time_c_col\n",
    "\n",
    "start_time_f_col = time.perf_counter()\n",
    "col_sums_f = array_f.sum(axis=0)\n",
    "time_f_col = time.perf_counter() - start_time_f_col\n",
    "print(\"Row-wise operation (sum of rows):\")\n",
    "print(f\"C-style layout time: {time_c:.6f} seconds\")\n",
    "print(f\"Fortran-style layout time: {time_f:.6f} seconds\")\n",
    "\n",
    "print(\"\\nColumn-wise operation (sum of columns):\")\n",
    "print(f\"C-style layout time: {time_c_col:.6f} seconds\")\n",
    "print(f\"Fortran-style layout time: {time_f_col:.6f} seconds\")"
   ]
  },
  {
   "cell_type": "code",
   "execution_count": null,
   "id": "1ff32bd3-bf3e-4fe6-ae4f-3fa0841bb7af",
   "metadata": {},
   "outputs": [],
   "source": []
  }
 ],
 "metadata": {
  "kernelspec": {
   "display_name": "Python [conda env:base] *",
   "language": "python",
   "name": "conda-base-py"
  },
  "language_info": {
   "codemirror_mode": {
    "name": "ipython",
    "version": 3
   },
   "file_extension": ".py",
   "mimetype": "text/x-python",
   "name": "python",
   "nbconvert_exporter": "python",
   "pygments_lexer": "ipython3",
   "version": "3.12.7"
  }
 },
 "nbformat": 4,
 "nbformat_minor": 5
}
