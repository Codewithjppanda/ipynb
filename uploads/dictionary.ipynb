{
 "cells": [
  {
   "cell_type": "code",
   "execution_count": 1,
   "id": "341092d3-4654-444b-a9d6-411d063997f2",
   "metadata": {},
   "outputs": [
    {
     "name": "stdout",
     "output_type": "stream",
     "text": [
      "{'brand': 'Maruti', 'model': 'Swift', 'year': 2020}\n"
     ]
    }
   ],
   "source": [
    "#dict is used to store key value and is unordered, changeable and doest allow duplicate values and is written in curly braces\n",
    "mydict={\n",
    "    \"brand\":\"Maruti\",\n",
    "    \"model\":\"Swift\",\n",
    "    \"year\":2020\n",
    "}\n",
    "print(mydict)"
   ]
  },
  {
   "cell_type": "code",
   "execution_count": 3,
   "id": "173bd6a4-3432-4437-a76f-701931164993",
   "metadata": {},
   "outputs": [
    {
     "name": "stdout",
     "output_type": "stream",
     "text": [
      "Maruti\n"
     ]
    }
   ],
   "source": [
    "mydict={\n",
    "    \"brand\":\"Maruti\",\n",
    "    \"model\":\"Swift\",\n",
    "    \"year\":2020\n",
    "}\n",
    "print(mydict[\"brand\"])"
   ]
  },
  {
   "cell_type": "code",
   "execution_count": 7,
   "id": "ea364df6-17ec-45c2-b10e-684157313adf",
   "metadata": {},
   "outputs": [
    {
     "name": "stdout",
     "output_type": "stream",
     "text": [
      "{'brand': 'Maruti', 'model': 'Swift', 'year': 2021}\n"
     ]
    }
   ],
   "source": [
    "mydict={\n",
    "    \"brand\":\"Maruti\",\n",
    "    \"model\":\"Swift\",\n",
    "    \"year\":2020,\n",
    "    \"year\":2021\n",
    "}\n",
    "print(mydict)"
   ]
  },
  {
   "cell_type": "code",
   "execution_count": 9,
   "id": "90b1f1c8-70d6-4fb7-9bde-fb9a525d02fc",
   "metadata": {},
   "outputs": [
    {
     "name": "stdout",
     "output_type": "stream",
     "text": [
      "3\n"
     ]
    }
   ],
   "source": [
    "print(len(mydict))"
   ]
  },
  {
   "cell_type": "code",
   "execution_count": 13,
   "id": "ecef133f-3f58-4170-a548-6ac01ab585c2",
   "metadata": {},
   "outputs": [
    {
     "name": "stdout",
     "output_type": "stream",
     "text": [
      "{'brand': 'Maruti', 'model': 'Swift', 'year': 2020, 'electric': False, 'color': ['red', 'white', 'blue']}\n"
     ]
    }
   ],
   "source": [
    "mydict={\n",
    "    \"brand\":\"Maruti\",\n",
    "    \"model\":\"Swift\",\n",
    "    \"year\":2020,\n",
    "    \"electric\":False,\n",
    "    \"color\":[\"red\",\"white\",\"blue\"]\n",
    "\n",
    "}\n",
    "print(mydict)"
   ]
  },
  {
   "cell_type": "code",
   "execution_count": 17,
   "id": "bf32dfc6-dcba-4d7d-964b-d8f1d0b693d7",
   "metadata": {},
   "outputs": [
    {
     "name": "stdout",
     "output_type": "stream",
     "text": [
      "<class 'dict'>\n"
     ]
    }
   ],
   "source": [
    "print(type(mydict))"
   ]
  },
  {
   "cell_type": "code",
   "execution_count": 19,
   "id": "bb683881-b08f-4733-83d3-aa1058c591bd",
   "metadata": {},
   "outputs": [
    {
     "name": "stdout",
     "output_type": "stream",
     "text": [
      "Swift\n"
     ]
    }
   ],
   "source": [
    "x=mydict[\"model\"]\n",
    "print(x)"
   ]
  },
  {
   "cell_type": "code",
   "execution_count": 23,
   "id": "148d6ad4-6bb1-40e0-9cb9-975516d467ca",
   "metadata": {},
   "outputs": [
    {
     "name": "stdout",
     "output_type": "stream",
     "text": [
      "Swift\n"
     ]
    }
   ],
   "source": [
    "x=mydict.get(\"model\")\n",
    "print(x)"
   ]
  },
  {
   "cell_type": "code",
   "execution_count": 25,
   "id": "dd924541-1150-44fe-83a5-de1d54d45f19",
   "metadata": {},
   "outputs": [
    {
     "name": "stdout",
     "output_type": "stream",
     "text": [
      "dict_keys(['brand', 'model', 'year', 'electric', 'color'])\n"
     ]
    }
   ],
   "source": [
    "x=mydict.keys()\n",
    "print(x)"
   ]
  },
  {
   "cell_type": "code",
   "execution_count": 27,
   "id": "a51e0991-a2f1-44f1-9bb6-e376cc123d4e",
   "metadata": {},
   "outputs": [
    {
     "name": "stdout",
     "output_type": "stream",
     "text": [
      "dict_values(['Maruti', 'Swift', 2020, False, ['red', 'white', 'blue']])\n"
     ]
    }
   ],
   "source": [
    "x=mydict.values()\n",
    "print(x)"
   ]
  },
  {
   "cell_type": "code",
   "execution_count": 29,
   "id": "52f8add1-982e-4a65-b92e-e24836ad8c52",
   "metadata": {},
   "outputs": [
    {
     "name": "stdout",
     "output_type": "stream",
     "text": [
      "please include\n"
     ]
    }
   ],
   "source": [
    "mydict={\n",
    "    \"brand\":\"Maruti\",\n",
    "    \"model\":\"Swift\",\n",
    "    \"year\":2020\n",
    "}\n",
    "if \"name\" in mydict:\n",
    "    print(\"yes:this is one of the keys\")\n",
    "else:\n",
    "    print(\"please include\")"
   ]
  },
  {
   "cell_type": "code",
   "execution_count": 31,
   "id": "767dc65a-c654-4058-826b-65f6d1aade95",
   "metadata": {},
   "outputs": [
    {
     "name": "stdout",
     "output_type": "stream",
     "text": [
      "dict_keys(['brand', 'model', 'year'])\n",
      "dict_keys(['brand', 'model', 'year', 'color'])\n"
     ]
    }
   ],
   "source": [
    "mydict={\n",
    "    \"brand\":\"Maruti\",\n",
    "    \"model\":\"Swift\",\n",
    "    \"year\":2020\n",
    "}\n",
    "x=mydict.keys()\n",
    "print(x)\n",
    "mydict[\"color\"]=\"white\"\n",
    "print(x)"
   ]
  },
  {
   "cell_type": "code",
   "execution_count": 33,
   "id": "c6dd6715-b489-43eb-8cec-994ed332c038",
   "metadata": {},
   "outputs": [
    {
     "name": "stdout",
     "output_type": "stream",
     "text": [
      "{'brand': 'Maruti', 'model': 'Swift', 'year': 2018, 'color': 'white'}\n"
     ]
    }
   ],
   "source": [
    "mydict[\"year\"]=2018\n",
    "print(mydict)"
   ]
  },
  {
   "cell_type": "code",
   "execution_count": 35,
   "id": "745e8fe5-5795-4f59-9d7c-d6d5db44bde8",
   "metadata": {},
   "outputs": [
    {
     "name": "stdout",
     "output_type": "stream",
     "text": [
      "{'brand': 'Maruti', 'model': 'Swift', 'year': 2015, 'color': 'white'}\n"
     ]
    }
   ],
   "source": [
    "mydict.update({\"year\":2015})\n",
    "print(mydict)"
   ]
  },
  {
   "cell_type": "code",
   "execution_count": 37,
   "id": "7d666cce-7fc9-44eb-8dbb-b6b5b7434bc7",
   "metadata": {},
   "outputs": [
    {
     "name": "stdout",
     "output_type": "stream",
     "text": [
      "{'brand': 'Maruti', 'model': 'Swift'}\n"
     ]
    }
   ],
   "source": [
    "mydict={\n",
    "    \"brand\":\"Maruti\",\n",
    "    \"model\":\"Swift\",\n",
    "    \"year\":2020\n",
    "}\n",
    "mydict.popitem()\n",
    "print(mydict)"
   ]
  },
  {
   "cell_type": "code",
   "execution_count": 39,
   "id": "9033bceb-7147-4780-99f4-88e625bde113",
   "metadata": {},
   "outputs": [
    {
     "name": "stdout",
     "output_type": "stream",
     "text": [
      "{'brand': 'Maruti', 'year': 2020}\n"
     ]
    }
   ],
   "source": [
    "mydict={\n",
    "    \"brand\":\"Maruti\",\n",
    "    \"model\":\"Swift\",\n",
    "    \"year\":2020\n",
    "}\n",
    "del mydict[\"model\"]\n",
    "print(mydict)"
   ]
  },
  {
   "cell_type": "code",
   "execution_count": 2,
   "id": "93a8afe0-e572-45e0-917d-60574bf41cde",
   "metadata": {},
   "outputs": [
    {
     "name": "stdout",
     "output_type": "stream",
     "text": [
      "{'brand': 'Maruti', 'model': 'Swift', 'year': 2020}\n"
     ]
    }
   ],
   "source": [
    "mydict={\n",
    "    \"brand\":\"Maruti\",\n",
    "    \"model\":\"Swift\",\n",
    "    \"year\":2020\n",
    "}\n",
    "\n",
    "print(mydict)\n",
    "del mydict"
   ]
  },
  {
   "cell_type": "code",
   "execution_count": 44,
   "id": "f59210be-f076-4607-9e0b-f8d5806680b4",
   "metadata": {},
   "outputs": [
    {
     "name": "stdout",
     "output_type": "stream",
     "text": [
      "{}\n"
     ]
    }
   ],
   "source": [
    "mydict={\n",
    "    \"brand\":\"Maruti\",\n",
    "    \"model\":\"Swift\",\n",
    "    \"year\":2020\n",
    "}\n",
    "mydict.clear()\n",
    "print(mydict)"
   ]
  },
  {
   "cell_type": "code",
   "execution_count": 46,
   "id": "0ea682a1-6169-4a9f-a07d-f0b22044b0a6",
   "metadata": {},
   "outputs": [
    {
     "name": "stdout",
     "output_type": "stream",
     "text": [
      "brand\n",
      "model\n",
      "year\n"
     ]
    }
   ],
   "source": [
    "mydict={\n",
    "    \"brand\":\"Maruti\",\n",
    "    \"model\":\"Swift\",\n",
    "    \"year\":2020\n",
    "}\n",
    "for x in mydict:\n",
    "    print(x)"
   ]
  },
  {
   "cell_type": "code",
   "execution_count": 48,
   "id": "6ec75341-42f3-40ea-a25c-b0faad301b02",
   "metadata": {},
   "outputs": [
    {
     "name": "stdout",
     "output_type": "stream",
     "text": [
      "Maruti\n",
      "Swift\n",
      "2020\n"
     ]
    }
   ],
   "source": [
    "for x in mydict:\n",
    "    print(mydict[x])"
   ]
  },
  {
   "cell_type": "code",
   "execution_count": 73,
   "id": "3402db5d-8348-4871-bb61-a6458cd9c5e0",
   "metadata": {},
   "outputs": [
    {
     "name": "stdout",
     "output_type": "stream",
     "text": [
      "brand\n",
      "model\n",
      "year\n"
     ]
    }
   ],
   "source": [
    "for x in mydict.keys():\n",
    "    print(x)"
   ]
  },
  {
   "cell_type": "code",
   "execution_count": 77,
   "id": "2baeca13-162e-4e4d-8ee8-dee63a3ca16e",
   "metadata": {},
   "outputs": [
    {
     "name": "stdout",
     "output_type": "stream",
     "text": [
      "brand Maruti\n",
      "model Swift\n",
      "year 2020\n"
     ]
    }
   ],
   "source": [
    "for x,y in mydict.items():\n",
    "    print(x,y)"
   ]
  },
  {
   "cell_type": "code",
   "execution_count": 69,
   "id": "f8682719-128c-48e3-b390-3afe78fd160b",
   "metadata": {},
   "outputs": [
    {
     "name": "stdout",
     "output_type": "stream",
     "text": [
      "{'child1': {'name': 'Emily', 'year': 2004}, 'child2': {'name': 'Tobias', 'year': 2007}}\n"
     ]
    }
   ],
   "source": [
    "myfamily={\n",
    "    \"child1\":{\n",
    "        \"name\":\"Emily\",\n",
    "        \"year\":2004\n",
    "},\n",
    "    \"child2\":{\n",
    "        \"name\":\"Tobias\",\n",
    "        \"year\":2007\n",
    "    }\n",
    "}\n",
    "print(myfamily)"
   ]
  },
  {
   "cell_type": "code",
   "execution_count": 4,
   "id": "46c46cff-e2bb-414c-8fad-384e4d37c36d",
   "metadata": {},
   "outputs": [
    {
     "name": "stdout",
     "output_type": "stream",
     "text": [
      "Sum of all items: 60\n"
     ]
    }
   ],
   "source": [
    "def sum_of_dict_items(dictionary):\n",
    "    return sum(dictionary.values())\n",
    "\n",
    "\n",
    "data = {'a': 10, 'b': 20, 'c': 30}\n",
    "print(\"Sum of all items:\", sum_of_dict_items(data))"
   ]
  },
  {
   "cell_type": "code",
   "execution_count": 8,
   "id": "11f2c4fb-895a-4f14-95cd-3de856f205bc",
   "metadata": {},
   "outputs": [
    {
     "name": "stdout",
     "output_type": "stream",
     "text": [
      "The size of the dictionary is: 3\n"
     ]
    }
   ],
   "source": [
    "mydict = {\n",
    "    \"brand\": \"Maruti\",\n",
    "    \"model\": \"Swift\",\n",
    "    \"year\": 2020\n",
    "}\n",
    "\n",
    "\n",
    "size_of_dict = len(mydict)\n",
    "\n",
    "print(\"The size of the dictionary is:\", size_of_dict)"
   ]
  },
  {
   "cell_type": "code",
   "execution_count": null,
   "id": "72817361-058d-4b3d-83fa-73d02a3dce78",
   "metadata": {},
   "outputs": [],
   "source": []
  },
  {
   "cell_type": "code",
   "execution_count": 12,
   "id": "e9a4dcde-aaa1-4a6a-bc54-ffd64a828513",
   "metadata": {},
   "outputs": [
    {
     "name": "stdout",
     "output_type": "stream",
     "text": [
      "Sorted by key: {'a': 1, 'b': 2, 'c': 3}\n",
      "Sorted by value: {'a': 1, 'b': 2, 'c': 3}\n"
     ]
    }
   ],
   "source": [
    "def sort_dictionary_by_key(dictionary):\n",
    "    return dict(sorted(dictionary.items()))\n",
    "\n",
    "def sort_dictionary_by_value(dictionary):\n",
    "    return dict(sorted(dictionary.items(), key=lambda item: item[1]))\n",
    "\n",
    "data = {'c': 3, 'a': 1, 'b': 2}\n",
    "print(\"Sorted by key:\", sort_dictionary_by_key(data))\n",
    "print(\"Sorted by value:\", sort_dictionary_by_value(data))\n"
   ]
  },
  {
   "cell_type": "code",
   "execution_count": 14,
   "id": "f2890adc-72a9-4e0d-a626-1a1957866ca5",
   "metadata": {},
   "outputs": [
    {
     "name": "stdout",
     "output_type": "stream",
     "text": [
      "Sorted list: [{'name': 'Bob', 'age': 20}, {'name': 'Alice', 'age': 25}, {'name': 'Charlie', 'age': 30}]\n"
     ]
    }
   ],
   "source": [
    "def sort_list_of_dicts(lst, key):\n",
    "    return sorted(lst, key=lambda x: x[key])\n",
    "\n",
    "\n",
    "data = [{'name': 'Alice', 'age': 25}, {'name': 'Bob', 'age': 20}, {'name': 'Charlie', 'age': 30}]\n",
    "print(\"Sorted list:\", sort_list_of_dicts(data, 'age'))\n"
   ]
  },
  {
   "cell_type": "code",
   "execution_count": 47,
   "id": "3ee1e386-79fc-4697-b28c-949e235667cf",
   "metadata": {},
   "outputs": [
    {
     "name": "stdout",
     "output_type": "stream",
     "text": [
      "Merged dictionary: {'a': 1, 'b': 2, 'c': 3, 'd': 4}\n"
     ]
    }
   ],
   "source": [
    "def merge_dictionaries(dict1, dict2):\n",
    "    return {**dict1, **dict2}\n",
    "\n",
    "\n",
    "dict1 = {'a': 1, 'b': 2}\n",
    "dict2 = {'c': 3, 'd': 4}\n",
    "print(\"Merged dictionary:\", merge_dictionaries(dict1, dict2))\n"
   ]
  },
  {
   "cell_type": "code",
   "execution_count": 25,
   "id": "0db733ac-734a-441c-ab6b-1d634d4169fe",
   "metadata": {},
   "outputs": [
    {
     "name": "stdout",
     "output_type": "stream",
     "text": [
      "Duplicate characters: ['r', 'g', 'm']\n"
     ]
    }
   ],
   "source": [
    "def find_duplicates(input_string):\n",
    "    char_count = {} \n",
    "    \n",
    "    for char in input_string: \n",
    "        if char in char_count:\n",
    "            char_count[char] += 1\n",
    "        else:\n",
    "            char_count[char] = 1\n",
    "    \n",
    "    duplicates = [char for char, count in char_count.items() if count > 1]\n",
    "    \n",
    "    return duplicates\n",
    "\n",
    "input_string = \"programming\"\n",
    "duplicates = find_duplicates(input_string)\n",
    "print(\"Duplicate characters:\", duplicates)"
   ]
  },
  {
   "cell_type": "code",
   "execution_count": 27,
   "id": "882f8437-091a-4074-8041-8ccd48498920",
   "metadata": {},
   "outputs": [
    {
     "name": "stdout",
     "output_type": "stream",
     "text": [
      "Replaced string: banana\n"
     ]
    }
   ],
   "source": [
    "def replace_string_by_kth_value(dictionary, k):\n",
    "    values = list(dictionary.values())\n",
    "    return values[k-1] if k <= len(values) else None\n",
    "\n",
    "data = {'a': 'apple', 'b': 'banana', 'c': 'cherry'}\n",
    "k = 2\n",
    "print(\"Replaced string:\", replace_string_by_kth_value(data, k))\n"
   ]
  },
  {
   "cell_type": "code",
   "execution_count": 39,
   "id": "9f386b1a-514f-4db8-9fef-0d78883dd6fa",
   "metadata": {},
   "outputs": [
    {
     "name": "stdout",
     "output_type": "stream",
     "text": [
      "Without duplicates: Hello from KIIT\n"
     ]
    }
   ],
   "source": [
    "def remove_duplicate_words(sentence):\n",
    "    words = sentence.split()\n",
    "    unique_words = list(dict.fromkeys(words))\n",
    "    return ' '.join(unique_words)\n",
    "sentence = \"Hello from from KIIT \"\n",
    "print(\"Without duplicates:\", remove_duplicate_words(sentence))\n"
   ]
  },
  {
   "cell_type": "code",
   "execution_count": 41,
   "id": "6570c3a8-0cf0-44e8-a508-1c2092a0f072",
   "metadata": {},
   "outputs": [
    {
     "name": "stdout",
     "output_type": "stream",
     "text": [
      "Frequencies: {1: 1, 2: 2, 3: 3, 4: 1}\n"
     ]
    }
   ],
   "source": [
    "def count_frequencies(lst):\n",
    "    from collections import Counter\n",
    "    return dict(Counter(lst))\n",
    "\n",
    "lst = [1, 2, 2, 3, 3, 3, 4]\n",
    "print(\"Frequencies:\", count_frequencies(lst))\n"
   ]
  },
  {
   "cell_type": "code",
   "execution_count": 43,
   "id": "e466dcc6-de3c-4a54-aca2-4b680f6af4e7",
   "metadata": {},
   "outputs": [
    {
     "name": "stdout",
     "output_type": "stream",
     "text": [
      "Grades: {'Alice': 'B', 'Bob': 'C', 'Charlie': 'A'}\n"
     ]
    }
   ],
   "source": [
    "def grade_calculator(marks):\n",
    "    if marks >= 90:\n",
    "        return 'A'\n",
    "    elif marks >= 80:\n",
    "        return 'B'\n",
    "    elif marks >= 70:\n",
    "        return 'C'\n",
    "    elif marks >= 60:\n",
    "        return 'D'\n",
    "    else:\n",
    "        return 'F'\n",
    "students = {'Alice': 85, 'Bob': 78, 'Charlie': 92}\n",
    "grades = {name: grade_calculator(score) for name, score in students.items()}\n",
    "print(\"Grades:\", grades)\n"
   ]
  }
 ],
 "metadata": {
  "kernelspec": {
   "display_name": "Python 3 (ipykernel)",
   "language": "python",
   "name": "python3"
  },
  "language_info": {
   "codemirror_mode": {
    "name": "ipython",
    "version": 3
   },
   "file_extension": ".py",
   "mimetype": "text/x-python",
   "name": "python",
   "nbconvert_exporter": "python",
   "pygments_lexer": "ipython3",
   "version": "3.12.7"
  }
 },
 "nbformat": 4,
 "nbformat_minor": 5
}
